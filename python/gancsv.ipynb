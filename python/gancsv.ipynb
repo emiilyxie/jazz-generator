{
 "cells": [
  {
   "cell_type": "code",
   "execution_count": 68,
   "metadata": {},
   "outputs": [],
   "source": [
    "import os\n",
    "import csv\n",
    "\n",
    "HERE = os.getcwd()\n",
    "TARGET_FILE = \"/cmaj-csv-measures/\"\n",
    "FILE_PATH = HERE + \"/cmaj-gan-measures/\"\n",
    "TARGET_PATH = HERE + TARGET_FILE\n",
    "\n",
    "for root, dirs, files in os.walk(\"cmaj-gan-measures\"):\n",
    "    measure = 1\n",
    "    for filename in files:\n",
    "        #print(filename + \"********************\")\n",
    "        f = open(FILE_PATH + filename, 'r')\n",
    "        g = open(TARGET_PATH + \"cmaj-measure\" + str(measure), 'a')\n",
    "        g.write(beginningPart)\n",
    "        relTime = 0\n",
    "        for line in f:\n",
    "            #print(line)\n",
    "            #print(\"first letter: \" + line[0])\n",
    "            noteNum = getNoteNum(line[0])\n",
    "            #print(noteNum)\n",
    "            hyphens = str(line.count(\"-\"))\n",
    "            #print(\"hyphens: \" + hyphens)\n",
    "            time = int(hyphens) * 40\n",
    "            #print(\"time: \" + str(time))\n",
    "            line1 = f\"1, {relTime}, Note_on_c, 0, {noteNum}, 80\\n\"\n",
    "            g.write(line1)\n",
    "            line2 = f\"1, {relTime + time - 13}, Note_on_c, 0, {noteNum}, 0\\n\"\n",
    "            g.write(line2)\n",
    "            relTime += time\n",
    "        line_final = f\"1, {relTime - 12}, End_track\\n\"\n",
    "        file_end = \"0, 0, End_of_file\"\n",
    "        g.write(line_final)\n",
    "        g.write(file_end)\n",
    "        measure += 1\n",
    "        #print(line_final)\n",
    "        f.close()\n",
    "        g.close()"
   ]
  },
  {
   "cell_type": "code",
   "execution_count": 41,
   "metadata": {},
   "outputs": [],
   "source": [
    "note_map = []\n",
    "ascii_val = 48\n",
    "for i in range(50):\n",
    "    note_map.append(chr(ascii_val))\n",
    "    ascii_val += 1\n",
    "\n",
    "def getNoteNum(val):\n",
    "    num = note_map.index(val)\n",
    "    return num + 40\n"
   ]
  },
  {
   "cell_type": "code",
   "execution_count": 31,
   "metadata": {},
   "outputs": [
    {
     "data": {
      "text/plain": [
       "32"
      ]
     },
     "execution_count": 31,
     "metadata": {},
     "output_type": "execute_result"
    }
   ],
   "source": [
    "getNoteNum('P')"
   ]
  },
  {
   "cell_type": "code",
   "execution_count": 25,
   "metadata": {},
   "outputs": [
    {
     "data": {
      "text/plain": [
       "'C'"
      ]
     },
     "execution_count": 25,
     "metadata": {},
     "output_type": "execute_result"
    }
   ],
   "source": [
    "note_map[19]"
   ]
  },
  {
   "cell_type": "code",
   "execution_count": 46,
   "metadata": {},
   "outputs": [
    {
     "data": {
      "text/plain": [
       "60"
      ]
     },
     "execution_count": 46,
     "metadata": {},
     "output_type": "execute_result"
    }
   ],
   "source": [
    "getNoteNum(\"D\")"
   ]
  },
  {
   "cell_type": "code",
   "execution_count": 43,
   "metadata": {},
   "outputs": [
    {
     "data": {
      "text/plain": [
       "73"
      ]
     },
     "execution_count": 43,
     "metadata": {},
     "output_type": "execute_result"
    }
   ],
   "source": [
    "ord(\"I\")"
   ]
  },
  {
   "cell_type": "code",
   "execution_count": 63,
   "metadata": {},
   "outputs": [],
   "source": [
    "beginningPart = '0, 0, Header, 1, 1, 480\\n1, 0, Start_track\\n1, 0, Time_signature, 4, 2, 24, 8\\n1, 0, Key_signature, 0, \"major\"\\n1, 0, Tempo, 500000\\n1, 0, Control_c, 0, 121, 0\\n1, 0, Program_c, 0, 0\\n1, 0, Control_c, 0, 7, 100\\n1, 0, Control_c, 0, 10, 64\\n1, 0, Control_c, 0, 91, 0\\n1, 0, Control_c, 0, 93, 0\\n1, 0, MIDI_port, 0\\n'"
   ]
  },
  {
   "cell_type": "code",
   "execution_count": 64,
   "metadata": {},
   "outputs": [
    {
     "name": "stdout",
     "output_type": "stream",
     "text": [
      "0, 0, Header, 1, 1, 480\n",
      "1, 0, Start_track\n",
      "1, 0, Time_signature, 4, 2, 24, 8\n",
      "1, 0, Key_signature, 0, \"major\"\n",
      "1, 0, Tempo, 500000\n",
      "1, 0, Control_c, 0, 121, 0\n",
      "1, 0, Program_c, 0, 0\n",
      "1, 0, Control_c, 0, 7, 100\n",
      "1, 0, Control_c, 0, 10, 64\n",
      "1, 0, Control_c, 0, 91, 0\n",
      "1, 0, Control_c, 0, 93, 0\n",
      "1, 0, MIDI_port, 0\n",
      "\n"
     ]
    }
   ],
   "source": [
    "print(beginningPart)"
   ]
  },
  {
   "cell_type": "code",
   "execution_count": null,
   "metadata": {},
   "outputs": [],
   "source": []
  }
 ],
 "metadata": {
  "kernelspec": {
   "display_name": "Python 3",
   "language": "python",
   "name": "python3"
  },
  "language_info": {
   "codemirror_mode": {
    "name": "ipython",
    "version": 3
   },
   "file_extension": ".py",
   "mimetype": "text/x-python",
   "name": "python",
   "nbconvert_exporter": "python",
   "pygments_lexer": "ipython3",
   "version": "3.7.3"
  }
 },
 "nbformat": 4,
 "nbformat_minor": 2
}
